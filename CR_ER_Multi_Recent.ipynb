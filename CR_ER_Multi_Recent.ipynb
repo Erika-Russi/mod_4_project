{
 "cells": [
  {
   "cell_type": "code",
   "execution_count": 2,
   "metadata": {},
   "outputs": [],
   "source": [
    "import pandas as pd\n",
    "import pandas.tseries\n",
    "import statsmodels.api as sm\n",
    "import matplotlib.pyplot as plt\n",
    "import numpy as np \n",
    "from statsmodels.tsa.arima_model import ARIMA\n",
    "from numpy import sqrt\n",
    "from sklearn.metrics import mean_squared_error"
   ]
  },
  {
   "cell_type": "code",
   "execution_count": 3,
   "metadata": {},
   "outputs": [
    {
     "data": {
      "text/html": [
       "<div>\n",
       "<style scoped>\n",
       "    .dataframe tbody tr th:only-of-type {\n",
       "        vertical-align: middle;\n",
       "    }\n",
       "\n",
       "    .dataframe tbody tr th {\n",
       "        vertical-align: top;\n",
       "    }\n",
       "\n",
       "    .dataframe thead th {\n",
       "        text-align: right;\n",
       "    }\n",
       "</style>\n",
       "<table border=\"1\" class=\"dataframe\">\n",
       "  <thead>\n",
       "    <tr style=\"text-align: right;\">\n",
       "      <th></th>\n",
       "      <th>Number</th>\n",
       "      <th>Population (in thousands)</th>\n",
       "      <th>Real GDP per capita (year 2012 dollars)</th>\n",
       "      <th>Pop_Perc</th>\n",
       "    </tr>\n",
       "    <tr>\n",
       "      <th>Year</th>\n",
       "      <th></th>\n",
       "      <th></th>\n",
       "      <th></th>\n",
       "      <th></th>\n",
       "    </tr>\n",
       "  </thead>\n",
       "  <tbody>\n",
       "    <tr>\n",
       "      <th>1930-01-01</th>\n",
       "      <td>241700.0</td>\n",
       "      <td>123188.0</td>\n",
       "      <td>8240.25</td>\n",
       "      <td>0.001962</td>\n",
       "    </tr>\n",
       "    <tr>\n",
       "      <th>1931-01-01</th>\n",
       "      <td>97139.0</td>\n",
       "      <td>124149.0</td>\n",
       "      <td>7652.10</td>\n",
       "      <td>0.000782</td>\n",
       "    </tr>\n",
       "    <tr>\n",
       "      <th>1932-01-01</th>\n",
       "      <td>35576.0</td>\n",
       "      <td>124949.0</td>\n",
       "      <td>6622.70</td>\n",
       "      <td>0.000285</td>\n",
       "    </tr>\n",
       "    <tr>\n",
       "      <th>1933-01-01</th>\n",
       "      <td>23068.0</td>\n",
       "      <td>125690.0</td>\n",
       "      <td>6502.51</td>\n",
       "      <td>0.000184</td>\n",
       "    </tr>\n",
       "    <tr>\n",
       "      <th>1934-01-01</th>\n",
       "      <td>29470.0</td>\n",
       "      <td>126485.0</td>\n",
       "      <td>7159.74</td>\n",
       "      <td>0.000233</td>\n",
       "    </tr>\n",
       "  </tbody>\n",
       "</table>\n",
       "</div>"
      ],
      "text/plain": [
       "              Number  Population (in thousands)  \\\n",
       "Year                                              \n",
       "1930-01-01  241700.0                   123188.0   \n",
       "1931-01-01   97139.0                   124149.0   \n",
       "1932-01-01   35576.0                   124949.0   \n",
       "1933-01-01   23068.0                   125690.0   \n",
       "1934-01-01   29470.0                   126485.0   \n",
       "\n",
       "            Real GDP per capita (year 2012 dollars)  Pop_Perc  \n",
       "Year                                                           \n",
       "1930-01-01                                  8240.25  0.001962  \n",
       "1931-01-01                                  7652.10  0.000782  \n",
       "1932-01-01                                  6622.70  0.000285  \n",
       "1933-01-01                                  6502.51  0.000184  \n",
       "1934-01-01                                  7159.74  0.000233  "
      ]
     },
     "execution_count": 3,
     "metadata": {},
     "output_type": "execute_result"
    }
   ],
   "source": [
    "imm = pd.read_excel('Data/Total_immigration_by_year.xlsx') \n",
    "imm.set_index('Year', inplace = True) #set index as year\n",
    "imm.index= imm.index.astype(str) #change to str for date time format\n",
    "imm.index = pd.to_datetime(imm.index)\n",
    "by_year_df = pd.read_csv('pop_all.csv')\n",
    "by_year_df.index= imm.index\n",
    "total_immigration = by_year_df['Pop_Perc'].to_frame()\n",
    "# total_immi\n",
    "# by_year_df.head()\n",
    "start_date = '1930'\n",
    "data = by_year_df[start_date:]\n",
    "data.head()"
   ]
  },
  {
   "cell_type": "code",
   "execution_count": 4,
   "metadata": {},
   "outputs": [
    {
     "data": {
      "text/plain": [
       "array([0.26927011, 0.13501081, 0.08937789, 0.00682927])"
      ]
     },
     "execution_count": 4,
     "metadata": {},
     "output_type": "execute_result"
    }
   ],
   "source": [
    "#checking for stationarity \n",
    "from statsmodels.tsa.vector_ar.vecm import coint_johansen\n",
    "#since the test works for only 12 variables, I have randomly dropped\n",
    "#in the next iteration, I would drop another and check the eigenvalues\n",
    "coint_johansen(data,-1,1).eig"
   ]
  },
  {
   "cell_type": "code",
   "execution_count": 5,
   "metadata": {},
   "outputs": [
    {
     "name": "stderr",
     "output_type": "stream",
     "text": [
      "/anaconda3/lib/python3.7/site-packages/statsmodels/tsa/base/tsa_model.py:171: ValueWarning: No frequency information was provided, so inferred frequency AS-JAN will be used.\n",
      "  % freq, ValueWarning)\n"
     ]
    }
   ],
   "source": [
    "#creating the train and validation set\n",
    "train = data[:int(0.8*(len(data)))]\n",
    "valid = data[int(0.8*(len(data))):]\n",
    "\n",
    "#fit the model\n",
    "from statsmodels.tsa.vector_ar.var_model import VAR\n",
    "\n",
    "model = VAR(endog=train)\n",
    "model_fit = model.fit()\n",
    "\n",
    "# make prediction on validation\n",
    "prediction = model_fit.forecast(model_fit.y, steps=len(valid))"
   ]
  },
  {
   "cell_type": "code",
   "execution_count": 6,
   "metadata": {},
   "outputs": [
    {
     "name": "stdout",
     "output_type": "stream",
     "text": [
      "rmse value for Number is :  221741.10493972086\n",
      "rmse value for Population (in thousands) is :  9764.958258908877\n",
      "rmse value for Real GDP per capita (year 2012 dollars) is :  2542.175187441708\n",
      "rmse value for Pop_Perc is :  0.0013870539041846784\n"
     ]
    }
   ],
   "source": [
    "#converting predictions to dataframe\n",
    "cols = data.columns\n",
    "pred = pd.DataFrame(index=range(0,len(prediction)),columns=[cols])\n",
    "for j in range(0,4):\n",
    "    for i in range(0, len(prediction)):\n",
    "       pred.iloc[i][j] = prediction[i][j]\n",
    "\n",
    "#check rmse\n",
    "for i in cols:\n",
    "    print('rmse value for', i, 'is : ', sqrt(mean_squared_error(pred[i], valid[i])))"
   ]
  },
  {
   "cell_type": "code",
   "execution_count": 7,
   "metadata": {},
   "outputs": [
    {
     "name": "stdout",
     "output_type": "stream",
     "text": [
      "[[1.14234583e+06 3.28377319e+05 5.62026687e+04 3.52975198e-03]\n",
      " [1.16534490e+06 3.30852539e+05 5.70039802e+04 3.62796842e-03]\n",
      " [1.19197333e+06 3.33401685e+05 5.77779699e+04 3.73603684e-03]\n",
      " [1.21970255e+06 3.36016216e+05 5.85279167e+04 3.84443240e-03]\n",
      " [1.24710446e+06 3.38687482e+05 5.92580774e+04 3.94808139e-03]\n",
      " [1.27345841e+06 3.41407512e+05 5.99728608e+04 4.04471222e-03]\n",
      " [1.29848170e+06 3.44169377e+05 6.06763753e+04 4.13373858e-03]\n",
      " [1.32214870e+06 3.46967292e+05 6.13722142e+04 4.21552120e-03]\n",
      " [1.34457267e+06 3.49796574e+05 6.20633860e+04 4.29089405e-03]\n",
      " [1.36593106e+06 3.52653528e+05 6.27523269e+04 4.36087186e-03]]\n"
     ]
    },
    {
     "name": "stderr",
     "output_type": "stream",
     "text": [
      "/anaconda3/lib/python3.7/site-packages/statsmodels/tsa/base/tsa_model.py:171: ValueWarning: No frequency information was provided, so inferred frequency AS-JAN will be used.\n",
      "  % freq, ValueWarning)\n"
     ]
    }
   ],
   "source": [
    "#make final predictions\n",
    "model = VAR(endog=data)\n",
    "model_fit = model.fit()\n",
    "yhat10 = model_fit.forecast(model_fit.y, steps=10)\n",
    "print(yhat10)"
   ]
  },
  {
   "cell_type": "code",
   "execution_count": null,
   "metadata": {},
   "outputs": [],
   "source": []
  },
  {
   "cell_type": "code",
   "execution_count": 8,
   "metadata": {},
   "outputs": [
    {
     "data": {
      "text/plain": [
       "Index(['Number', 'Population (in thousands)',\n",
       "       'Real GDP per capita (year 2012 dollars)', 'Pop_Perc'],\n",
       "      dtype='object')"
      ]
     },
     "execution_count": 8,
     "metadata": {},
     "output_type": "execute_result"
    }
   ],
   "source": [
    "data.columns"
   ]
  },
  {
   "cell_type": "code",
   "execution_count": 9,
   "metadata": {},
   "outputs": [],
   "source": [
    "data_viz = data.drop(columns=['Number'])"
   ]
  },
  {
   "cell_type": "code",
   "execution_count": 10,
   "metadata": {},
   "outputs": [
    {
     "data": {
      "text/html": [
       "<div>\n",
       "<style scoped>\n",
       "    .dataframe tbody tr th:only-of-type {\n",
       "        vertical-align: middle;\n",
       "    }\n",
       "\n",
       "    .dataframe tbody tr th {\n",
       "        vertical-align: top;\n",
       "    }\n",
       "\n",
       "    .dataframe thead th {\n",
       "        text-align: right;\n",
       "    }\n",
       "</style>\n",
       "<table border=\"1\" class=\"dataframe\">\n",
       "  <thead>\n",
       "    <tr style=\"text-align: right;\">\n",
       "      <th></th>\n",
       "      <th>Population (in thousands)</th>\n",
       "      <th>Real GDP per capita (year 2012 dollars)</th>\n",
       "      <th>Pop_Perc</th>\n",
       "    </tr>\n",
       "    <tr>\n",
       "      <th>Year</th>\n",
       "      <th></th>\n",
       "      <th></th>\n",
       "      <th></th>\n",
       "    </tr>\n",
       "  </thead>\n",
       "  <tbody>\n",
       "    <tr>\n",
       "      <th>1930-01-01</th>\n",
       "      <td>123188.0</td>\n",
       "      <td>8240.25</td>\n",
       "      <td>0.001962</td>\n",
       "    </tr>\n",
       "    <tr>\n",
       "      <th>1931-01-01</th>\n",
       "      <td>124149.0</td>\n",
       "      <td>7652.10</td>\n",
       "      <td>0.000782</td>\n",
       "    </tr>\n",
       "    <tr>\n",
       "      <th>1932-01-01</th>\n",
       "      <td>124949.0</td>\n",
       "      <td>6622.70</td>\n",
       "      <td>0.000285</td>\n",
       "    </tr>\n",
       "    <tr>\n",
       "      <th>1933-01-01</th>\n",
       "      <td>125690.0</td>\n",
       "      <td>6502.51</td>\n",
       "      <td>0.000184</td>\n",
       "    </tr>\n",
       "    <tr>\n",
       "      <th>1934-01-01</th>\n",
       "      <td>126485.0</td>\n",
       "      <td>7159.74</td>\n",
       "      <td>0.000233</td>\n",
       "    </tr>\n",
       "  </tbody>\n",
       "</table>\n",
       "</div>"
      ],
      "text/plain": [
       "            Population (in thousands)  \\\n",
       "Year                                    \n",
       "1930-01-01                   123188.0   \n",
       "1931-01-01                   124149.0   \n",
       "1932-01-01                   124949.0   \n",
       "1933-01-01                   125690.0   \n",
       "1934-01-01                   126485.0   \n",
       "\n",
       "            Real GDP per capita (year 2012 dollars)  Pop_Perc  \n",
       "Year                                                           \n",
       "1930-01-01                                  8240.25  0.001962  \n",
       "1931-01-01                                  7652.10  0.000782  \n",
       "1932-01-01                                  6622.70  0.000285  \n",
       "1933-01-01                                  6502.51  0.000184  \n",
       "1934-01-01                                  7159.74  0.000233  "
      ]
     },
     "execution_count": 10,
     "metadata": {},
     "output_type": "execute_result"
    }
   ],
   "source": [
    "data_viz.head() "
   ]
  },
  {
   "cell_type": "code",
   "execution_count": 11,
   "metadata": {},
   "outputs": [
    {
     "data": {
      "text/html": [
       "<div>\n",
       "<style scoped>\n",
       "    .dataframe tbody tr th:only-of-type {\n",
       "        vertical-align: middle;\n",
       "    }\n",
       "\n",
       "    .dataframe tbody tr th {\n",
       "        vertical-align: top;\n",
       "    }\n",
       "\n",
       "    .dataframe thead th {\n",
       "        text-align: right;\n",
       "    }\n",
       "</style>\n",
       "<table border=\"1\" class=\"dataframe\">\n",
       "  <thead>\n",
       "    <tr style=\"text-align: right;\">\n",
       "      <th></th>\n",
       "      <th>Population (in thousands)</th>\n",
       "      <th>Real GDP per capita (year 2012 dollars)</th>\n",
       "      <th>Pop_Perc</th>\n",
       "    </tr>\n",
       "    <tr>\n",
       "      <th>Year</th>\n",
       "      <th></th>\n",
       "      <th></th>\n",
       "      <th></th>\n",
       "    </tr>\n",
       "  </thead>\n",
       "  <tbody>\n",
       "    <tr>\n",
       "      <th>2013-01-01</th>\n",
       "      <td>316598.0</td>\n",
       "      <td>52102.03</td>\n",
       "      <td>0.003129</td>\n",
       "    </tr>\n",
       "    <tr>\n",
       "      <th>2014-01-01</th>\n",
       "      <td>318953.0</td>\n",
       "      <td>52985.24</td>\n",
       "      <td>0.003187</td>\n",
       "    </tr>\n",
       "    <tr>\n",
       "      <th>2015-01-01</th>\n",
       "      <td>321323.0</td>\n",
       "      <td>54109.73</td>\n",
       "      <td>0.003271</td>\n",
       "    </tr>\n",
       "    <tr>\n",
       "      <th>2016-01-01</th>\n",
       "      <td>323668.0</td>\n",
       "      <td>54559.61</td>\n",
       "      <td>0.003657</td>\n",
       "    </tr>\n",
       "    <tr>\n",
       "      <th>2017-01-01</th>\n",
       "      <td>325983.0</td>\n",
       "      <td>55373.13</td>\n",
       "      <td>0.003458</td>\n",
       "    </tr>\n",
       "  </tbody>\n",
       "</table>\n",
       "</div>"
      ],
      "text/plain": [
       "            Population (in thousands)  \\\n",
       "Year                                    \n",
       "2013-01-01                   316598.0   \n",
       "2014-01-01                   318953.0   \n",
       "2015-01-01                   321323.0   \n",
       "2016-01-01                   323668.0   \n",
       "2017-01-01                   325983.0   \n",
       "\n",
       "            Real GDP per capita (year 2012 dollars)  Pop_Perc  \n",
       "Year                                                           \n",
       "2013-01-01                                 52102.03  0.003129  \n",
       "2014-01-01                                 52985.24  0.003187  \n",
       "2015-01-01                                 54109.73  0.003271  \n",
       "2016-01-01                                 54559.61  0.003657  \n",
       "2017-01-01                                 55373.13  0.003458  "
      ]
     },
     "execution_count": 11,
     "metadata": {},
     "output_type": "execute_result"
    }
   ],
   "source": [
    "data_viz.tail()"
   ]
  },
  {
   "cell_type": "code",
   "execution_count": 12,
   "metadata": {},
   "outputs": [
    {
     "data": {
      "text/plain": [
       "(10, 3)"
      ]
     },
     "execution_count": 12,
     "metadata": {},
     "output_type": "execute_result"
    }
   ],
   "source": [
    "pred_df = pd.DataFrame(yhat10)\n",
    "pred_df.drop([0], axis=1, inplace=True)\n",
    "pred_df.columns = ['Population (in thousands)',\n",
    "       'Real GDP per capita (year 2012 dollars)', 'Pop_Perc']\n",
    "pred_df.shape"
   ]
  },
  {
   "cell_type": "code",
   "execution_count": 16,
   "metadata": {},
   "outputs": [
    {
     "data": {
      "text/html": [
       "<div>\n",
       "<style scoped>\n",
       "    .dataframe tbody tr th:only-of-type {\n",
       "        vertical-align: middle;\n",
       "    }\n",
       "\n",
       "    .dataframe tbody tr th {\n",
       "        vertical-align: top;\n",
       "    }\n",
       "\n",
       "    .dataframe thead th {\n",
       "        text-align: right;\n",
       "    }\n",
       "</style>\n",
       "<table border=\"1\" class=\"dataframe\">\n",
       "  <thead>\n",
       "    <tr style=\"text-align: right;\">\n",
       "      <th></th>\n",
       "      <th>Population (in thousands)</th>\n",
       "      <th>Real GDP per capita (year 2012 dollars)</th>\n",
       "      <th>Pop_Perc</th>\n",
       "    </tr>\n",
       "  </thead>\n",
       "  <tbody>\n",
       "    <tr>\n",
       "      <th>2018-12-31</th>\n",
       "      <td>328377.319189</td>\n",
       "      <td>56202.668706</td>\n",
       "      <td>0.003530</td>\n",
       "    </tr>\n",
       "    <tr>\n",
       "      <th>2019-12-31</th>\n",
       "      <td>330852.538657</td>\n",
       "      <td>57003.980199</td>\n",
       "      <td>0.003628</td>\n",
       "    </tr>\n",
       "    <tr>\n",
       "      <th>2020-12-31</th>\n",
       "      <td>333401.684956</td>\n",
       "      <td>57777.969866</td>\n",
       "      <td>0.003736</td>\n",
       "    </tr>\n",
       "    <tr>\n",
       "      <th>2021-12-31</th>\n",
       "      <td>336016.215886</td>\n",
       "      <td>58527.916659</td>\n",
       "      <td>0.003844</td>\n",
       "    </tr>\n",
       "    <tr>\n",
       "      <th>2022-12-31</th>\n",
       "      <td>338687.481586</td>\n",
       "      <td>59258.077390</td>\n",
       "      <td>0.003948</td>\n",
       "    </tr>\n",
       "  </tbody>\n",
       "</table>\n",
       "</div>"
      ],
      "text/plain": [
       "            Population (in thousands)  \\\n",
       "2018-12-31              328377.319189   \n",
       "2019-12-31              330852.538657   \n",
       "2020-12-31              333401.684956   \n",
       "2021-12-31              336016.215886   \n",
       "2022-12-31              338687.481586   \n",
       "\n",
       "            Real GDP per capita (year 2012 dollars)  Pop_Perc  \n",
       "2018-12-31                             56202.668706  0.003530  \n",
       "2019-12-31                             57003.980199  0.003628  \n",
       "2020-12-31                             57777.969866  0.003736  \n",
       "2021-12-31                             58527.916659  0.003844  \n",
       "2022-12-31                             59258.077390  0.003948  "
      ]
     },
     "execution_count": 16,
     "metadata": {},
     "output_type": "execute_result"
    }
   ],
   "source": [
    "# pred_df.index\n",
    "times = pd.DatetimeIndex(freq='Y', start='2018', periods=10)\n",
    "pred_df.index = times\n",
    "pred_df.head() \n",
    "# times\n",
    "# data['1850':].corr()"
   ]
  },
  {
   "cell_type": "code",
   "execution_count": null,
   "metadata": {},
   "outputs": [],
   "source": [
    "'Population (in thousands)',\n",
    "       'Real GDP per capita (year 2012 dollars)', 'Pop_Perc'\n",
    "data_viz.drop('Population (in thousands)', )"
   ]
  },
  {
   "cell_type": "code",
   "execution_count": 17,
   "metadata": {},
   "outputs": [
    {
     "data": {
      "text/plain": [
       "array([<matplotlib.axes._subplots.AxesSubplot object at 0x1c2181c358>,\n",
       "       <matplotlib.axes._subplots.AxesSubplot object at 0x1c218a36d8>,\n",
       "       <matplotlib.axes._subplots.AxesSubplot object at 0x1c218c9c50>],\n",
       "      dtype=object)"
      ]
     },
     "execution_count": 17,
     "metadata": {},
     "output_type": "execute_result"
    },
    {
     "data": {
      "image/png": "[encoded data removed]",
      "text/plain": [
       "<Figure size 1440x1080 with 3 Axes>"
      ]
     },
     "metadata": {
      "needs_background": "light"
     },
     "output_type": "display_data"
    }
   ],
   "source": [
    "# pred_df_viz = data_viz.append(pred_df)\n",
    "# pred_df_viz.plot()\n",
    "ax = data_viz.plot(label='observed', figsize=(20,15), subplots='true')\n",
    "pred_df.plot(ax=ax, label='forecast', subplots='true', style='b.')\n"
   ]
  },
  {
   "cell_type": "code",
   "execution_count": 18,
   "metadata": {},
   "outputs": [
    {
     "data": {
      "text/html": [
       "<div>\n",
       "<style scoped>\n",
       "    .dataframe tbody tr th:only-of-type {\n",
       "        vertical-align: middle;\n",
       "    }\n",
       "\n",
       "    .dataframe tbody tr th {\n",
       "        vertical-align: top;\n",
       "    }\n",
       "\n",
       "    .dataframe thead th {\n",
       "        text-align: right;\n",
       "    }\n",
       "</style>\n",
       "<table border=\"1\" class=\"dataframe\">\n",
       "  <thead>\n",
       "    <tr style=\"text-align: right;\">\n",
       "      <th></th>\n",
       "      <th>Population (in thousands)</th>\n",
       "      <th>Real GDP per capita (year 2012 dollars)</th>\n",
       "      <th>Pop_Perc</th>\n",
       "    </tr>\n",
       "  </thead>\n",
       "  <tbody>\n",
       "    <tr>\n",
       "      <th>2018-12-31</th>\n",
       "      <td>328377.319189</td>\n",
       "      <td>56202.668706</td>\n",
       "      <td>0.003530</td>\n",
       "    </tr>\n",
       "    <tr>\n",
       "      <th>2019-12-31</th>\n",
       "      <td>330852.538657</td>\n",
       "      <td>57003.980199</td>\n",
       "      <td>0.003628</td>\n",
       "    </tr>\n",
       "    <tr>\n",
       "      <th>2020-12-31</th>\n",
       "      <td>333401.684956</td>\n",
       "      <td>57777.969866</td>\n",
       "      <td>0.003736</td>\n",
       "    </tr>\n",
       "    <tr>\n",
       "      <th>2021-12-31</th>\n",
       "      <td>336016.215886</td>\n",
       "      <td>58527.916659</td>\n",
       "      <td>0.003844</td>\n",
       "    </tr>\n",
       "    <tr>\n",
       "      <th>2022-12-31</th>\n",
       "      <td>338687.481586</td>\n",
       "      <td>59258.077390</td>\n",
       "      <td>0.003948</td>\n",
       "    </tr>\n",
       "    <tr>\n",
       "      <th>2023-12-31</th>\n",
       "      <td>341407.511713</td>\n",
       "      <td>59972.860784</td>\n",
       "      <td>0.004045</td>\n",
       "    </tr>\n",
       "    <tr>\n",
       "      <th>2024-12-31</th>\n",
       "      <td>344169.376732</td>\n",
       "      <td>60676.375262</td>\n",
       "      <td>0.004134</td>\n",
       "    </tr>\n",
       "    <tr>\n",
       "      <th>2025-12-31</th>\n",
       "      <td>346967.291712</td>\n",
       "      <td>61372.214217</td>\n",
       "      <td>0.004216</td>\n",
       "    </tr>\n",
       "    <tr>\n",
       "      <th>2026-12-31</th>\n",
       "      <td>349796.574185</td>\n",
       "      <td>62063.386004</td>\n",
       "      <td>0.004291</td>\n",
       "    </tr>\n",
       "    <tr>\n",
       "      <th>2027-12-31</th>\n",
       "      <td>352653.527952</td>\n",
       "      <td>62752.326902</td>\n",
       "      <td>0.004361</td>\n",
       "    </tr>\n",
       "  </tbody>\n",
       "</table>\n",
       "</div>"
      ],
      "text/plain": [
       "            Population (in thousands)  \\\n",
       "2018-12-31              328377.319189   \n",
       "2019-12-31              330852.538657   \n",
       "2020-12-31              333401.684956   \n",
       "2021-12-31              336016.215886   \n",
       "2022-12-31              338687.481586   \n",
       "2023-12-31              341407.511713   \n",
       "2024-12-31              344169.376732   \n",
       "2025-12-31              346967.291712   \n",
       "2026-12-31              349796.574185   \n",
       "2027-12-31              352653.527952   \n",
       "\n",
       "            Real GDP per capita (year 2012 dollars)  Pop_Perc  \n",
       "2018-12-31                             56202.668706  0.003530  \n",
       "2019-12-31                             57003.980199  0.003628  \n",
       "2020-12-31                             57777.969866  0.003736  \n",
       "2021-12-31                             58527.916659  0.003844  \n",
       "2022-12-31                             59258.077390  0.003948  \n",
       "2023-12-31                             59972.860784  0.004045  \n",
       "2024-12-31                             60676.375262  0.004134  \n",
       "2025-12-31                             61372.214217  0.004216  \n",
       "2026-12-31                             62063.386004  0.004291  \n",
       "2027-12-31                             62752.326902  0.004361  "
      ]
     },
     "execution_count": 18,
     "metadata": {},
     "output_type": "execute_result"
    }
   ],
   "source": [
    "# data_viz = data_viz['2000':]\n",
    "# test = data_viz.append(pred_df)\n",
    "pred_df.tail(10)"
   ]
  },
  {
   "cell_type": "code",
   "execution_count": null,
   "metadata": {},
   "outputs": [],
   "source": [
    "2027-01-01\t 356686.972176\t 62747.206804\t 0.004026"
   ]
  },
  {
   "cell_type": "code",
   "execution_count": null,
   "metadata": {},
   "outputs": [],
   "source": []
  },
  {
   "cell_type": "code",
   "execution_count": null,
   "metadata": {},
   "outputs": [],
   "source": []
  },
  {
   "cell_type": "code",
   "execution_count": null,
   "metadata": {},
   "outputs": [],
   "source": []
  },
  {
   "cell_type": "code",
   "execution_count": null,
   "metadata": {},
   "outputs": [],
   "source": []
  }
 ],
 "metadata": {
  "kernelspec": {
   "display_name": "Python 3",
   "language": "python",
   "name": "python3"
  },
  "language_info": {
   "codemirror_mode": {
    "name": "ipython",
    "version": 3
   },
   "file_extension": ".py",
   "mimetype": "text/x-python",
   "name": "python",
   "nbconvert_exporter": "python",
   "pygments_lexer": "ipython3",
   "version": "3.7.0"
  }
 },
 "nbformat": 4,
 "nbformat_minor": 2
}
